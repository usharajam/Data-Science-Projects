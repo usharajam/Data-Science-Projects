{
 "cells": [
  {
   
  
  },
  {
   
  },
  {
   "cell_type": "markdown",
   "metadata": {},
   "source": [
    "## Project Description\n",
    "\n",
    "The supermarket chain Good Seed like to explore whether Data Science can help them adhere to alcohol laws by making sure they do not sell alcohol to people underage. To conduct that evaluation, let us assume we have the following:\n",
    "\n",
    "- The shops are equipped with cameras in the checkout area which are triggered when a person is buying alcohol\n",
    "- Computer vision methods can be used to determine age of a person from a photo\n",
    "- we are given set of photographs of people with their ages indicated\n",
    "\n",
    "Thus our task is to build and evaluate a model for verifying people's age given their photo.\n"
   ]
  },
  {
   "cell_type": "markdown",
   "metadata": {
    "deletable": false,
    "editable": false,
    "tags": [
     "df89053c-55da-4946-b602-c3baf619b53f"
    ]
   },
   "source": [
    "## Initialization"
   ]
  },
  {
   "cell_type": "markdown",
   "metadata": {},
   "source": [
    "First import all the libraries needed for the project"
   ]
  },
  {
   "cell_type": "code",
   "execution_count": 8,
   "metadata": {},
   "outputs": [],
   "source": [
    "import pandas as pd\n",
    "import matplotlib.pyplot as plt\n",
    "import numpy as np\n",
    "\n",
    "import tensorflow as tf\n",
    "from tensorflow.keras.preprocessing.image import ImageDataGenerator\n",
    "from tensorflow.keras.applications.resnet import ResNet50\n",
    "from tensorflow.keras.models import Sequential\n",
    "from tensorflow.keras.layers import GlobalAveragePooling2D, Dense, Dropout, Flatten\n",
    "from tensorflow.keras.optimizers import Adam"
   ]
  },
  {
   "cell_type": "markdown",
   "metadata": {},
   "source": [
    "## Load Data"
   ]
  },
  {
   "cell_type": "markdown",
   "metadata": {},
   "source": [
    "The dataset is stored in the `/datasets/faces/` folder, there we can find\n",
    "- The `final_files` folder with 7.6k photos\n",
    "- The `labels.csv` file with labels, with two columns: `file_name` and `real_age`\n",
    "\n",
    "Let us store the path for the datasets in a variable file_path for easy reference."
   ]
  },
  {
   "cell_type": "code",
   "execution_count": 9,
   "metadata": {},
   "outputs": [],
   "source": [
    "file_path = '/datasets/faces/'"
   ]
  },
  {
   "cell_type": "markdown",
   "metadata": {},
   "source": [
    "Given the fact that the number of image files is rather high, it is better to avoid reading them all at once, which would greatly consume computational resources. So, let us build a generator with the ImageDataGenerator generator which loads the images in batches. \n",
    "\n",
    "The label file can be loaded as pandas dataframe from the labels.csv file.\n",
    "\n",
    "Below are the functions load_data for loading face images and load_labels for loading labels file."
   ]
  },
  {
   "cell_type": "code",
   "execution_count": 10,
   "metadata": {},
   "outputs": [],
   "source": [
    "def load_data(path):\n",
    "    \n",
    "    \"\"\"\n",
    "    It loads the labels from csv as target and the image files in the 'final_files' folder in the path as features and \n",
    "    returns the DirectoryIterator containing tuple of features numpy array and target numpy array in batches.\n",
    "    \n",
    "    \"\"\"\n",
    "    \n",
    "    datagen = ImageDataGenerator(\n",
    "        rescale=1.0/255.0)\n",
    "   \n",
    "    labels = load_labels(path + \"labels.csv\")\n",
    "   \n",
    "\n",
    "    gen_flow = datagen.flow_from_dataframe(\n",
    "        dataframe=labels,\n",
    "        directory=path + 'final_files/',\n",
    "        x_col='file_name',\n",
    "        y_col='real_age',\n",
    "        target_size=(224, 224),\n",
    "        batch_size=32,\n",
    "        class_mode='raw',\n",
    "        seed=12345) \n",
    "    return gen_flow\n",
    "\n",
    "def load_labels(filename):\n",
    "    \"\"\"\n",
    "        loads the labels from the csv file with filename\n",
    "    \"\"\"\n",
    "    \n",
    "    return pd.read_csv(filename)\n"
   ]
  },
  {
   "cell_type": "markdown",
   "metadata": {},
   "source": [
    "Now let us first load the labels file"
   ]
  },
  {
   "cell_type": "code",
   "execution_count": 11,
   "metadata": {},
   "outputs": [
    {
     "data": {
      "text/html": [
       "<div>\n",
       "<style scoped>\n",
       "    .dataframe tbody tr th:only-of-type {\n",
       "        vertical-align: middle;\n",
       "    }\n",
       "\n",
       "    .dataframe tbody tr th {\n",
       "        vertical-align: top;\n",
       "    }\n",
       "\n",
       "    .dataframe thead th {\n",
       "        text-align: right;\n",
       "    }\n",
       "</style>\n",
       "<table border=\"1\" class=\"dataframe\">\n",
       "  <thead>\n",
       "    <tr style=\"text-align: right;\">\n",
       "      <th></th>\n",
       "      <th>file_name</th>\n",
       "      <th>real_age</th>\n",
       "    </tr>\n",
       "  </thead>\n",
       "  <tbody>\n",
       "    <tr>\n",
       "      <td>0</td>\n",
       "      <td>000000.jpg</td>\n",
       "      <td>4</td>\n",
       "    </tr>\n",
       "    <tr>\n",
       "      <td>1</td>\n",
       "      <td>000001.jpg</td>\n",
       "      <td>18</td>\n",
       "    </tr>\n",
       "    <tr>\n",
       "      <td>2</td>\n",
       "      <td>000002.jpg</td>\n",
       "      <td>80</td>\n",
       "    </tr>\n",
       "    <tr>\n",
       "      <td>3</td>\n",
       "      <td>000003.jpg</td>\n",
       "      <td>50</td>\n",
       "    </tr>\n",
       "    <tr>\n",
       "      <td>4</td>\n",
       "      <td>000004.jpg</td>\n",
       "      <td>17</td>\n",
       "    </tr>\n",
       "    <tr>\n",
       "      <td>...</td>\n",
       "      <td>...</td>\n",
       "      <td>...</td>\n",
       "    </tr>\n",
       "    <tr>\n",
       "      <td>7586</td>\n",
       "      <td>007608.jpg</td>\n",
       "      <td>14</td>\n",
       "    </tr>\n",
       "    <tr>\n",
       "      <td>7587</td>\n",
       "      <td>007609.jpg</td>\n",
       "      <td>37</td>\n",
       "    </tr>\n",
       "    <tr>\n",
       "      <td>7588</td>\n",
       "      <td>007610.jpg</td>\n",
       "      <td>28</td>\n",
       "    </tr>\n",
       "    <tr>\n",
       "      <td>7589</td>\n",
       "      <td>007611.jpg</td>\n",
       "      <td>20</td>\n",
       "    </tr>\n",
       "    <tr>\n",
       "      <td>7590</td>\n",
       "      <td>007612.jpg</td>\n",
       "      <td>47</td>\n",
       "    </tr>\n",
       "  </tbody>\n",
       "</table>\n",
       "<p>7591 rows × 2 columns</p>\n",
       "</div>"
      ],
      "text/plain": [
       "       file_name  real_age\n",
       "0     000000.jpg         4\n",
       "1     000001.jpg        18\n",
       "2     000002.jpg        80\n",
       "3     000003.jpg        50\n",
       "4     000004.jpg        17\n",
       "...          ...       ...\n",
       "7586  007608.jpg        14\n",
       "7587  007609.jpg        37\n",
       "7588  007610.jpg        28\n",
       "7589  007611.jpg        20\n",
       "7590  007612.jpg        47\n",
       "\n",
       "[7591 rows x 2 columns]"
      ]
     },
     "metadata": {},
     "output_type": "display_data"
    },
    {
     "name": "stdout",
     "output_type": "stream",
     "text": [
      "<class 'pandas.core.frame.DataFrame'>\n",
      "RangeIndex: 7591 entries, 0 to 7590\n",
      "Data columns (total 2 columns):\n",
      "file_name    7591 non-null object\n",
      "real_age     7591 non-null int64\n",
      "dtypes: int64(1), object(1)\n",
      "memory usage: 118.7+ KB\n"
     ]
    },
    {
     "data": {
      "text/plain": [
       "None"
      ]
     },
     "metadata": {},
     "output_type": "display_data"
    }
   ],
   "source": [
    "input_data = load_labels(file_path + \"labels.csv\")\n",
    "display(input_data)\n",
    "display(input_data.info())"
   ]
  },
  {
   "cell_type": "markdown",
   "metadata": {},
   "source": [
    "Thus the labels file has 7591 records meaning we have pictures and ages of 7591 persons. Next, we will load the images along with their ages in numpy arrays using function `load_data` which saves the memory by loading them in batches."
   ]
  },
  {
   "cell_type": "code",
   "execution_count": 12,
   "metadata": {},
   "outputs": [
    {
     "name": "stdout",
     "output_type": "stream",
     "text": [
      "Found 7591 validated image filenames.\n"
     ]
    }
   ],
   "source": [
    "itr = load_data(file_path)"
   ]
  },
  {
   "cell_type": "markdown",
   "metadata": {},
   "source": [
    "<div class=\"alert alert-block alert-success\">\n",
    "<b>Success:</b> Great that you've remembered about initial analysis of the uploaded file.\n",
    "</div>"
   ]
  },
  {
   "cell_type": "markdown",
   "metadata": {},
   "source": [
    "Next, we will retrieve the first batch of the training ready data and do the exploratory data analysis"
   ]
  },
  {
   "cell_type": "code",
   "execution_count": 13,
   "metadata": {},
   "outputs": [],
   "source": [
    "# load the first batch\n",
    "features, target = next(itr)"
   ]
  },
  {
   "cell_type": "code",
   "execution_count": 14,
   "metadata": {},
   "outputs": [
    {
     "name": "stdout",
     "output_type": "stream",
     "text": [
      "First batch features dimensions (32, 224, 224, 3)\n",
      "First batch target dimensions (32,)\n"
     ]
    }
   ],
   "source": [
    "print(\"First batch features dimensions\", features.shape)\n",
    "print(\"First batch target dimensions\", target.shape)"
   ]
  },
  {
   "cell_type": "markdown",
   "metadata": {},
   "source": [
    "### Findings\n",
    "\n",
    "- We have 7591 persons images and their ages that are to be used for training our neural network\n",
    "- Images occupies lot of memory, so we are loading them in batches using ImageDataGenerator\n",
    "- With batch size of 32 we have 32 images with 224 * 224 pixels having 3 color channels as input for our neural network and their corresponding ages as target variables for first batch."
   ]
  },
  {
   "cell_type": "markdown",
   "metadata": {},
   "source": [
    "## Exploratory Data Analysis\n",
    "\n",
    "\n",
    "Now let us see how the ages are distributed. Let us examine the first batch of data we loaded usind ImageDataGenerator."
   ]
  },
  {
   "cell_type": "code",
   "execution_count": 15,
   "metadata": {},
   "outputs": [
    {
     "data": {
      "text/plain": [
       "Text(0.5, 1.0, 'Age distribution in first batch of training data')"
      ]
     },
     "execution_count": 15,
     "metadata": {},
     "output_type": "execute_result"
    },
    {
     "data": {
      "image/png": "[encoded data removed]",
      "text/plain": [
       "<Figure size 432x288 with 1 Axes>"
      ]
     },
     "metadata": {
      "needs_background": "light"
     },
     "output_type": "display_data"
    }
   ],
   "source": [
    "plt.hist(target, bins=np.arange(min(target), max(target), 10),  facecolor='g', alpha=0.75);\n",
    "plt.grid(True)\n",
    "plt.title(\"Age distribution in first batch of training data\")"
   ]
  },
  {
   "cell_type": "code",
   "execution_count": 16,
   "metadata": {},
   "outputs": [
    {
     "data": {
      "text/plain": [
       "Text(0.5, 1.0, 'Age distribution in the entire training dataset')"
      ]
     },
     "execution_count": 16,
     "metadata": {},
     "output_type": "execute_result"
    },
    {
     "data": {
      "image/png": "[encoded data removed]",
      "text/plain": [
       "<Figure size 432x288 with 1 Axes>"
      ]
     },
     "metadata": {
      "needs_background": "light"
     },
     "output_type": "display_data"
    }
   ],
   "source": [
    "plt.hist(input_data.real_age, bins=np.arange(min(input_data.real_age), max(input_data.real_age), 10),  facecolor='g', alpha=0.75);\n",
    "plt.grid(True)\n",
    "plt.title(\"Age distribution in the entire training dataset\")\n"
   ]
  },
  {
   "cell_type": "markdown",
   "metadata": {},
   "source": [
    "<div class=\"alert alert-block alert-info\">\n",
    "<b>Improve: </b> It would be better if you've increased number of bins.\n",
    "</div>"
   ]
  },
  {
   "cell_type": "markdown",
   "metadata": {},
   "source": [
    "Both the histograms are right skewed. The peak occurs within 10-30 ages for the first batch sample, which is very close to the peak of the entire dataset, which is between 20-30. Thus, the samples in first batch represents the overall population very well. \n",
    "\n",
    "In both histograms we can observe that there is high number of people with ages 40 or less. The dataset has very few people with ages above 60.\n",
    "\n",
    "Now let us have a look at the images of 15 people in our batch training data."
   ]
  },
  {
   "cell_type": "code",
   "execution_count": 17,
   "metadata": {},
   "outputs": [
    {
     "data": {
      "text/plain": [
       "<Figure size 1600x480 with 0 Axes>"
      ]
     },
     "metadata": {},
     "output_type": "display_data"
    },
    {
     "data": {
      "image/png": "[encoded data removed]",
      "text/plain": [
       "<Figure size 432x288 with 5 Axes>"
      ]
     },
     "metadata": {
      "needs_background": "light"
     },
     "output_type": "display_data"
    },
    {
     "data": {
      "image/png": "[encoded data removed]",
      "text/plain": [
       "<Figure size 432x288 with 5 Axes>"
      ]
     },
     "metadata": {
      "needs_background": "light"
     },
     "output_type": "display_data"
    },
    {
     "data": {
      "image/png": "[encoded data removed]",
      "text/plain": [
       "<Figure size 432x288 with 5 Axes>"
      ]
     },
     "metadata": {
      "needs_background": "light"
     },
     "output_type": "display_data"
    }
   ],
   "source": [
    "%matplotlib inline\n",
    "plt.figure(figsize = (20, 6), dpi = 80)\n",
    "for i in range(0, 15, 5):\n",
    "    fig, ax = plt.subplots(1, 5)\n",
    "    for j in range(5):\n",
    "        ax[j].imshow(features[i+j], cmap='gray');\n",
    "        ax[j].set_title(\"Age {}\".format(target[i+j]));"
   ]
  },
  {
   "cell_type": "markdown",
   "metadata": {},
   "source": [
    "<div class=\"alert alert-block alert-success\">\n",
    "<b>Success:</b> Glad to see that ages were inserted in the titles.\n",
    "</div>"
   ]
  },
  {
   "cell_type": "markdown",
   "metadata": {},
   "source": [
    "The images shows people of different ages. First glimpse on the images displayed shows that there are no artifacts in their corresponding ages. Some images have only partial view of the faces. Different backgrounds in the images. Some images have less clarity while most images are very clear. Some images appear tilted to right or left."
   ]
  },
  {
   "cell_type": "markdown",
   "metadata": {},
   "source": [
    "### Findings"
   ]
  },
  {
   "cell_type": "markdown",
   "metadata": {},
   "source": [
    "- The age distribution of the population and the first batch sample are right skewed\n",
    "- The dataset has more younger population of ages 40 or below\n",
    "- The images has mix of people of different ages, races taken in different angles."
   ]
  },
  {
   "cell_type": "markdown",
   "metadata": {},
   "source": [
    "<div class=\"alert alert-block alert-success\">\n",
    "<b>Success:</b> Analysis was done well!\n",
    "</div>"
   ]
  },
  {
   "cell_type": "markdown",
   "metadata": {},
   "source": [
    "## Modelling"
   ]
  },
  {
   "cell_type": "markdown",
   "metadata": {},
   "source": [
    "Now let us build and train a convolutional neural network on the GPU platform, using the dataset with photos of people to predict the age. \n",
    "\n",
    "Since we are tasked to predict the age which usually a integer number, this can not be classification problem. We should use regression. We will use the ResNet50 network which was pre-trained by using the ImageNet dataset. It has 1000 classes, so there are 1000 neurons in the output layer. These 1000 neurons have to be reduced to only one neuron at the output layer which predicts the age. \n",
    "\n",
    "Since we need to predict a number instead of class, we will use 'ReLU' as the activation instead of sigmoid or softmax. We will Adam algorithm for optimization with learning rate of 1e4. As this is a regression problem, we will use mean squared error for calculating loss amd Mean absolute error as the evaluation metric. We need to get the MAE score for the test set no higher than 8.\n",
    "\n",
    "First let us define essential functions for loading training and test dataset, creating the Resnet50 model and training it as explained below. \n",
    "\n",
    "- load_train(path)\n",
    "    - it loads the train dataset\n",
    "- load_test(path)\n",
    "    - it loads the test dataset\n",
    "- create_model(input_shape)\n",
    "    - it defines a model\n",
    "- train_model(model, train_data, test_data, batch_size, epochs, steps_per_epoch, validation_steps)\n",
    "    - it controls the training of the model"
   ]
  },
  {
   "cell_type": "code",
   "execution_count": 18,
   "metadata": {},
   "outputs": [],
   "source": [
    "def load_train(path):\n",
    "    \"\"\"\n",
    "    It loads the validation/test part of dataset from path\n",
    "    \"\"\"\n",
    "    train_datagen = ImageDataGenerator(\n",
    "        rescale=1.0/255.0, validation_split=0.25)\n",
    "   \n",
    "    labels = load_labels(path + \"labels.csv\")\n",
    "   \n",
    "\n",
    "    train_gen_flow = train_datagen.flow_from_dataframe(\n",
    "        dataframe=labels,\n",
    "        directory=path + 'final_files/',\n",
    "        x_col='file_name',\n",
    "        y_col='real_age',\n",
    "        target_size=(224, 224),\n",
    "        batch_size=32,\n",
    "        subset='training',\n",
    "        class_mode='raw',\n",
    "        seed=12345) \n",
    "    return train_gen_flow\n",
    "\n",
    "def load_test(path):\n",
    "    \n",
    "    \"\"\"\n",
    "    It loads the validation/test part of dataset from path\n",
    "    \"\"\"\n",
    "    test_datagen = ImageDataGenerator(\n",
    "        rescale=1.0/255.0, validation_split=0.25)\n",
    "   \n",
    "    labels = load_labels(path + \"labels.csv\")\n",
    "   \n",
    "\n",
    "    test_gen_flow = test_datagen.flow_from_dataframe(\n",
    "        dataframe=labels,\n",
    "        directory=path + 'final_files/',\n",
    "        x_col='file_name',\n",
    "        y_col='real_age',\n",
    "        target_size=(224, 224),\n",
    "        batch_size=32,\n",
    "        class_mode='raw',\n",
    "        subset='validation',\n",
    "        seed=12345) \n",
    "    return test_gen_flow\n"
   ]
  },
  {
   "cell_type": "markdown",
   "metadata": {},
   "source": [
    "<div class=\"alert alert-block alert-danger\">\n",
    "<b>Needs fixing:</b> Different functions should be used for loading train and test data. \n",
    "    \n",
    "In `ImageDataGenerator` for train and test `validation_split=0.25` parameter should be used. \n",
    "    \n",
    "In`flow_from_dataframe` `subset='training'` or `subset='validation'` parameters shoudl be used. Otherwise learning validation would be made on the same set.\n",
    "    \n",
    "</div>"
   ]
  },
  {
   "cell_type": "markdown",
   "metadata": {},
   "source": [
    "<span style=\"background-color: aqua\">\n",
    "<span style=\"color:green\">\n",
    "<b>Student comments: </b> load_train and load_test functions are updated accordingly. Thanks for your feedback\n",
    "    </span>   \n",
    "</span>"
   ]
  },
  {
   "cell_type": "code",
   "execution_count": 19,
   "metadata": {},
   "outputs": [],
   "source": [
    "def create_model(input_shape=(150, 150, 3)):\n",
    "    backbone = ResNet50(\n",
    "    input_shape=input_shape, weights='imagenet', include_top=False\n",
    "    )\n",
    "    model = Sequential()\n",
    "    model.add(backbone)\n",
    "    model.add(GlobalAveragePooling2D())\n",
    "    model.add(Dense(120, activation='relu')) \n",
    "    model.add(Dense(60, activation='relu')) \n",
    "    model.add(Dense(12, activation='relu')) \n",
    "    model.add(Dense(1, activation='relu')) \n",
    "    optimizer = Adam(lr=0.00001)\n",
    "\n",
    "    model.compile(\n",
    "    \toptimizer=optimizer,\n",
    "    \t loss='mean_squared_error',\n",
    "    \tmetrics=['mae'])\n",
    "    return model\n",
    "\n"
   ]
  },
  {
   "cell_type": "code",
   "execution_count": 20,
   "metadata": {},
   "outputs": [],
   "source": [
    "def train_model(\n",
    "    model,\n",
    "    train_data,\n",
    "    test_data,\n",
    "    batch_size=None,\n",
    "    epochs=15,\n",
    "    steps_per_epoch=None,\n",
    "    validation_steps=None,\n",
    "):\n",
    "\n",
    "\n",
    "    if steps_per_epoch is None:\n",
    "    \tsteps_per_epoch = len(train_data)\n",
    "    if validation_steps is None:\n",
    "    \tvalidation_steps = len(test_data) \n",
    "    model.fit(train_data,\n",
    "          validation_data=test_data,\n",
    "          batch_size=batch_size,\n",
    "          epochs=epochs,\n",
    "          steps_per_epoch=steps_per_epoch,\n",
    "         validation_steps=validation_steps,\n",
    "        verbose=2) \n",
    "   \n",
    "\n",
    "    return model "
   ]
  },
  {
   "cell_type": "markdown",
   "metadata": {},
   "source": [
    "Next, we will build a single script containing all of the above functions along with the initalization section. That script can easily be executed in GPU platform after uploading it."
   ]
  },
  {
   "cell_type": "markdown",
   "metadata": {},
   "source": [
    "### Prepare the Script to Run on the GPU Platform"
   ]
  },
  {
   "cell_type": "markdown",
   "metadata": {},
   "source": [
    "Now the defined the necessary functions which can be composed into a script with the below code. We can download this script via the \"File|Open...\" menu, and then upload it later for running on the GPU platform."
   ]
  },
  {
   "cell_type": "code",
   "execution_count": 21,
   "metadata": {},
   "outputs": [],
   "source": [
    "# prepare a script to run on the GPU platform\n",
    "\n",
    "init_str = \"\"\"\n",
    "import pandas as pd\n",
    "\n",
    "import tensorflow as tf\n",
    "\n",
    "from tensorflow.keras.preprocessing.image import ImageDataGenerator\n",
    "from tensorflow.keras.applications.resnet import ResNet50\n",
    "from tensorflow.keras.models import Sequential\n",
    "from tensorflow.keras.layers import GlobalAveragePooling2D, Dense, Dropout, Flatten\n",
    "from tensorflow.keras.optimizers import Adam\n",
    "\"\"\"\n",
    "\n",
    "import inspect\n",
    "\n",
    "with open('run_model_on_gpu.py', 'w') as f:\n",
    "    \n",
    "    f.write(init_str)\n",
    "    f.write('\\n\\n')\n",
    "        \n",
    "    for fn_name in [load_train, load_test, create_model, train_model, load_labels]:\n",
    "        \n",
    "        src = inspect.getsource(fn_name)\n",
    "        f.write(src)\n",
    "        f.write('\\n\\n')"
   ]
  },
  {
   "cell_type": "markdown",
   "metadata": {},
   "source": [
    "The 'run_model_on_gpu.py' file is downloaded and uploaded in the GPU platform and the model is updated to get optimized MAE values."
   ]
  },
  {
   "cell_type": "markdown",
   "metadata": {},
   "source": [
    "### Output"
   ]
  },
  {
   "cell_type": "markdown",
   "metadata": {},
   "source": [
    "The output from the GPU platform is shown below - The test MAE is 7.27 which is well below our threshold MAE of 8"
   ]
  },
  {
   "cell_type": "markdown",
   "metadata": {},
   "source": [
    "```\n",
    "Train for 178 steps, validate for 60 steps\n",
    "Epoch 1/15\n",
    "2022-01-08 19:53:29.371054: I tensorflow/stream_executor/platform/default/dso_loader.cc:44] Successfully opened dynamic library libcublas.so.10\n",
    "2022-01-08 19:53:29.667308: I tensorflow/stream_executor/platform/default/dso_loader.cc:44] Successfully opened dynamic library libcudnn.so.7\n",
    "178/178 - 45s - loss: 1012.0427 - mae: 27.4864 - val_loss: 1137.8382 - val_mae: 29.2697\n",
    "Epoch 2/15\n",
    "178/178 - 37s - loss: 294.6151 - mae: 13.5937 - val_loss: 1125.2434 - val_mae: 29.0563\n",
    "Epoch 3/15\n",
    "178/178 - 37s - loss: 77.2641 - mae: 6.6024 - val_loss: 798.0519 - val_mae: 23.2451\n",
    "Epoch 4/15\n",
    "178/178 - 37s - loss: 34.5475 - mae: 4.5249 - val_loss: 195.8135 - val_mae: 10.6966\n",
    "Epoch 5/15\n",
    "178/178 - 36s - loss: 19.9628 - mae: 3.5054 - val_loss: 132.3287 - val_mae: 8.9080\n",
    "Epoch 6/15\n",
    "178/178 - 37s - loss: 14.2603 - mae: 2.9733 - val_loss: 88.1112 - val_mae: 7.1328\n",
    "Epoch 7/15\n",
    "178/178 - 37s - loss: 12.2058 - mae: 2.7202 - val_loss: 84.9063 - val_mae: 7.0056\n",
    "Epoch 8/15\n",
    "178/178 - 37s - loss: 11.4873 - mae: 2.6583 - val_loss: 87.4468 - val_mae: 7.0497\n",
    "Epoch 9/15\n",
    "178/178 - 37s - loss: 11.0292 - mae: 2.5682 - val_loss: 87.9820 - val_mae: 7.0639\n",
    "Epoch 10/15\n",
    "178/178 - 37s - loss: 10.7904 - mae: 2.5425 - val_loss: 86.0165 - val_mae: 6.9957\n",
    "Epoch 11/15\n",
    "178/178 - 37s - loss: 10.1799 - mae: 2.4733 - val_loss: 85.6244 - val_mae: 6.9637\n",
    "Epoch 12/15\n",
    "178/178 - 37s - loss: 9.3428 - mae: 2.3896 - val_loss: 87.8532 - val_mae: 7.0637\n",
    "Epoch 13/15\n",
    "178/178 - 37s - loss: 9.1336 - mae: 2.3422 - val_loss: 87.7574 - val_mae: 7.1409\n",
    "Epoch 14/15\n",
    "178/178 - 37s - loss: 8.6206 - mae: 2.3038 - val_loss: 84.4649 - val_mae: 6.9986\n",
    "Epoch 15/15\n",
    "178/178 - 37s - loss: 8.3885 - mae: 2.2464 - val_loss: 93.9595 - val_mae: 7.2748\n",
    "WARNING:tensorflow:sample_weight modes were coerced from\n",
    "  ...\n",
    "    to  \n",
    "  ['...']\n",
    "60/60 - 9s - loss: 93.9595 - mae: 7.2748\n",
    "Test MAE: 7.2748\n",
    "```"
   ]
  },
  {
   "cell_type": "markdown",
   "metadata": {},
   "source": [
    "#### Findings\n",
    "- First epoch had MAE 27 which then gradually reduced to 2.24 in the final training epoch.\n",
    "- The MAE is 7.27 which lower than the threshold of 8\n",
    "- The convolutional network model we built is very efficient with lowest MAE."
   ]
  },
  {
   "cell_type": "markdown",
   "metadata": {},
   "source": [
    "<div class=\"alert alert-block alert-success\">\n",
    "<b>Success (review 2):</b> Absolutely right now!\n",
    "</div>"
   ]
  },
  {
   "cell_type": "markdown",
   "metadata": {},
   "source": [
    "## Conclusions"
   ]
  },
  {
   "cell_type": "markdown",
   "metadata": {},
   "source": [
    "In this project we are given the task is to build and evaluate a model for verifying people's age based on their photo. The model should predict in such a way that Mean absolute error for model should not exceed 8. To build such a Convolutional network model we did the following\n",
    "\n",
    "- loaded the given dataset of 7591 persons pictures with their ages efficiently into memory as batches using ImageDataGenerator\n",
    "\n",
    "- visualized age distribution of a sample batch and the overall dataset and found that there are fewer persons with ages above 60 in the dataset\n",
    "\n",
    "- found that the data has high number of persons with ages 40 or below \n",
    "\n",
    "- we printed few images and analysed them - the pictures are a good mix of different ages, race, angles including pictures with partial view of the faces\n",
    "\n",
    "- To build model we determined this is regression problem and output layer needs to be only one neuron. \n",
    "\n",
    "- Given the regression model, we determined the loss function as MSE and evaluation metric is MAE\n",
    "\n",
    "- Learning rate was set 1e4 and Adam algorithm is chosen as optimizer\n",
    "\n",
    "- we built essential functions to load the training and test data, create the neural network and train them\n",
    "\n",
    "- we generated a script containing the defined functions along with the initalization section\n",
    "\n",
    "- we uploaded the script file and executed that in GPU platform\n",
    "\n",
    "- Our model produced MAE for the test set as 7.27, which is below the threshold of 8\n",
    "\n",
    "- Thus we built an efficient convolutional model using Resnet50 which gave MAE as 7.27\n",
    "\n",
    "To conclude, having built the convolutional model whose mean absolute error is 7.27, we can be sure that data science would definitely help the supermarket chain Good Seed to determine whom to sell alcohol, by using our model to find ages based on the pictures."
   ]
  },
  {
   "cell_type": "markdown",
   "metadata": {},
   "source": [
    "<div class=\"alert alert-block alert-success\">\n",
    "<b>Success:</b> Glad to see well-structured conclusion at the end of the project!\n",
    "</div>"
   ]
  },
  {
   "cell_type": "markdown",
   "metadata": {},
   "source": [
    "<div class=\"alert alert-block alert-info\">\n",
    "<b>Improve: </b> You could add some words about business. Can our model help to solve business tasks?\n",
    "</div>"
   ]
  },
  {
   "cell_type": "markdown",
   "metadata": {},
   "source": [
    "<span style=\"background-color: aqua\">\n",
    "<span style=\"color:green\">\n",
    "<b>Student comments: </b> Thanks for your feedback. I added a point on how the model could help buisness in the final conclusion. \n",
    "    </span>   \n",
    "</span>"
   ]
  },
  {
   "cell_type": "markdown",
   "metadata": {},
   "source": [
    "<div class=\"alert alert-block alert-success\">\n",
    "<b>Success (review 2):</b> Thanks!\n",
    "</div>"
   ]
  },
  {
   "cell_type": "markdown",
   "metadata": {},
   "source": [
    "# Checklist"
   ]
  },
  {
   "cell_type": "markdown",
   "metadata": {},
   "source": [
    "- [x]  Notebook was opened\n",
    "- [x]  The code is error free\n",
    "- [x]  The cells with code have been arranged by order of execution\n",
    "- [x]  The exploratory data analysis has been performed\n",
    "- [x]  The results of the exploratory data analysis are presented in the final notebook\n",
    "- [x]  The model's MAE score is not higher than 8\n",
    "- [x]  The model training code has been copied to the final notebook\n",
    "- [x]  The model training output has been copied to the final notebook\n",
    "- [x]  The findings have been provided based on the results of the model training"
   ]
  },
  {
   "cell_type": "code",
   "execution_count": null,
   "metadata": {},
   "outputs": [],
   "source": []
  }
 ],
 "metadata": {
  "ExecuteTimeLog": [
   {
    "duration": 826,
    "start_time": "2022-01-07T22:01:25.391Z"
   },
   {
    "duration": 3638,
    "start_time": "2022-01-07T22:11:49.925Z"
   },
   {
    "duration": 6,
    "start_time": "2022-01-07T22:12:03.125Z"
   },
   {
    "duration": 5,
    "start_time": "2022-01-07T22:14:19.166Z"
   },
   {
    "duration": 6,
    "start_time": "2022-01-07T22:14:23.306Z"
   },
   {
    "duration": 5,
    "start_time": "2022-01-07T22:14:32.214Z"
   },
   {
    "duration": 1081,
    "start_time": "2022-01-07T22:14:53.489Z"
   },
   {
    "duration": 1038,
    "start_time": "2022-01-07T22:23:52.221Z"
   },
   {
    "duration": 146,
    "start_time": "2022-01-07T22:23:57.192Z"
   },
   {
    "duration": 5,
    "start_time": "2022-01-07T22:23:57.341Z"
   },
   {
    "duration": 599,
    "start_time": "2022-01-07T22:23:57.349Z"
   },
   {
    "duration": -61,
    "start_time": "2022-01-07T22:23:58.012Z"
   },
   {
    "duration": -205,
    "start_time": "2022-01-07T22:23:58.157Z"
   },
   {
    "duration": -205,
    "start_time": "2022-01-07T22:23:58.159Z"
   },
   {
    "duration": -205,
    "start_time": "2022-01-07T22:23:58.160Z"
   },
   {
    "duration": -206,
    "start_time": "2022-01-07T22:23:58.162Z"
   },
   {
    "duration": 964,
    "start_time": "2022-01-08T00:38:26.976Z"
   },
   {
    "duration": 6,
    "start_time": "2022-01-08T00:39:40.386Z"
   },
   {
    "duration": 2821,
    "start_time": "2022-01-08T00:39:52.863Z"
   },
   {
    "duration": 6,
    "start_time": "2022-01-08T00:40:08.458Z"
   },
   {
    "duration": -110,
    "start_time": "2022-01-08T00:41:43.761Z"
   },
   {
    "duration": -241,
    "start_time": "2022-01-08T00:41:43.893Z"
   },
   {
    "duration": -248,
    "start_time": "2022-01-08T00:41:43.902Z"
   },
   {
    "duration": -249,
    "start_time": "2022-01-08T00:41:43.904Z"
   },
   {
    "duration": -249,
    "start_time": "2022-01-08T00:41:43.906Z"
   },
   {
    "duration": -249,
    "start_time": "2022-01-08T00:41:43.907Z"
   },
   {
    "duration": -250,
    "start_time": "2022-01-08T00:41:43.909Z"
   },
   {
    "duration": -249,
    "start_time": "2022-01-08T00:41:43.910Z"
   },
   {
    "duration": 3,
    "start_time": "2022-01-08T00:43:11.151Z"
   },
   {
    "duration": 5,
    "start_time": "2022-01-08T00:43:11.163Z"
   },
   {
    "duration": 91443,
    "start_time": "2022-01-08T00:43:11.172Z"
   },
   {
    "duration": -52,
    "start_time": "2022-01-08T00:44:42.670Z"
   },
   {
    "duration": -55,
    "start_time": "2022-01-08T00:44:42.675Z"
   },
   {
    "duration": -183,
    "start_time": "2022-01-08T00:44:42.804Z"
   },
   {
    "duration": -182,
    "start_time": "2022-01-08T00:44:42.805Z"
   },
   {
    "duration": -183,
    "start_time": "2022-01-08T00:44:42.807Z"
   },
   {
    "duration": 5,
    "start_time": "2022-01-08T00:45:27.119Z"
   },
   {
    "duration": 281,
    "start_time": "2022-01-08T00:51:10.867Z"
   },
   {
    "duration": 570,
    "start_time": "2022-01-08T00:51:22.812Z"
   },
   {
    "duration": 303,
    "start_time": "2022-01-08T00:51:28.094Z"
   },
   {
    "duration": 437,
    "start_time": "2022-01-08T00:56:33.510Z"
   },
   {
    "duration": 419,
    "start_time": "2022-01-08T00:57:38.702Z"
   },
   {
    "duration": 150,
    "start_time": "2022-01-08T00:57:59.282Z"
   },
   {
    "duration": 432,
    "start_time": "2022-01-08T00:58:05.735Z"
   },
   {
    "duration": 422,
    "start_time": "2022-01-08T00:58:25.527Z"
   },
   {
    "duration": 4700,
    "start_time": "2022-01-08T00:58:32.396Z"
   },
   {
    "duration": 6498,
    "start_time": "2022-01-08T01:02:33.186Z"
   },
   {
    "duration": 5266,
    "start_time": "2022-01-08T01:05:49.604Z"
   },
   {
    "duration": 313,
    "start_time": "2022-01-08T01:06:41.258Z"
   },
   {
    "duration": 330,
    "start_time": "2022-01-08T01:07:11.082Z"
   },
   {
    "duration": 5035,
    "start_time": "2022-01-08T01:07:37.828Z"
   },
   {
    "duration": 296,
    "start_time": "2022-01-08T01:07:53.408Z"
   },
   {
    "duration": 4994,
    "start_time": "2022-01-08T01:07:58.721Z"
   },
   {
    "duration": 2765,
    "start_time": "2022-01-08T01:15:20.970Z"
   },
   {
    "duration": 2443,
    "start_time": "2022-01-08T01:15:44.039Z"
   },
   {
    "duration": 2692,
    "start_time": "2022-01-08T01:16:31.391Z"
   },
   {
    "duration": 2388,
    "start_time": "2022-01-08T01:17:39.627Z"
   },
   {
    "duration": 2633,
    "start_time": "2022-01-08T01:19:09.549Z"
   },
   {
    "duration": 1136,
    "start_time": "2022-01-08T01:19:21.894Z"
   },
   {
    "duration": 1072,
    "start_time": "2022-01-08T01:19:29.559Z"
   },
   {
    "duration": 1178,
    "start_time": "2022-01-08T01:19:51.825Z"
   },
   {
    "duration": 2665,
    "start_time": "2022-01-08T01:20:09.603Z"
   },
   {
    "duration": 2472,
    "start_time": "2022-01-08T01:20:31.069Z"
   },
   {
    "duration": 6,
    "start_time": "2022-01-08T01:20:49.645Z"
   },
   {
    "duration": 91674,
    "start_time": "2022-01-08T01:21:12.344Z"
   },
   {
    "duration": 434,
    "start_time": "2022-01-08T01:32:19.136Z"
   },
   {
    "duration": 40,
    "start_time": "2022-01-08T01:32:25.132Z"
   },
   {
    "duration": 303,
    "start_time": "2022-01-08T01:34:47.457Z"
   },
   {
    "duration": 6,
    "start_time": "2022-01-08T01:34:53.093Z"
   },
   {
    "duration": 51,
    "start_time": "2022-01-08T01:34:55.422Z"
   },
   {
    "duration": 5,
    "start_time": "2022-01-08T01:36:36.975Z"
   },
   {
    "duration": 5,
    "start_time": "2022-01-08T01:37:38.968Z"
   },
   {
    "duration": 3,
    "start_time": "2022-01-08T02:20:02.711Z"
   },
   {
    "duration": 9,
    "start_time": "2022-01-08T02:20:02.718Z"
   },
   {
    "duration": 50,
    "start_time": "2022-01-08T02:20:02.731Z"
   },
   {
    "duration": 91671,
    "start_time": "2022-01-08T02:20:02.785Z"
   },
   {
    "duration": 6,
    "start_time": "2022-01-08T02:21:34.458Z"
   },
   {
    "duration": 310,
    "start_time": "2022-01-08T02:21:34.466Z"
   },
   {
    "duration": -70,
    "start_time": "2022-01-08T02:21:34.849Z"
   },
   {
    "duration": -203,
    "start_time": "2022-01-08T02:21:34.984Z"
   },
   {
    "duration": -205,
    "start_time": "2022-01-08T02:21:34.987Z"
   },
   {
    "duration": -204,
    "start_time": "2022-01-08T02:21:34.988Z"
   },
   {
    "duration": -204,
    "start_time": "2022-01-08T02:21:34.990Z"
   },
   {
    "duration": 2768,
    "start_time": "2022-01-08T02:22:31.542Z"
   },
   {
    "duration": 582,
    "start_time": "2022-01-08T02:23:48.070Z"
   },
   {
    "duration": 301,
    "start_time": "2022-01-08T02:24:00.787Z"
   },
   {
    "duration": 276,
    "start_time": "2022-01-08T02:24:25.422Z"
   },
   {
    "duration": 311,
    "start_time": "2022-01-08T02:24:52.316Z"
   },
   {
    "duration": 288,
    "start_time": "2022-01-08T02:25:19.457Z"
   },
   {
    "duration": 748,
    "start_time": "2022-01-08T02:25:41.627Z"
   },
   {
    "duration": 547,
    "start_time": "2022-01-08T02:26:02.682Z"
   },
   {
    "duration": 302,
    "start_time": "2022-01-08T02:26:46.203Z"
   },
   {
    "duration": 299,
    "start_time": "2022-01-08T02:26:57.050Z"
   },
   {
    "duration": 303,
    "start_time": "2022-01-08T02:29:37.040Z"
   },
   {
    "duration": 3,
    "start_time": "2022-01-08T02:29:48.738Z"
   },
   {
    "duration": 840,
    "start_time": "2022-01-08T02:29:58.090Z"
   },
   {
    "duration": 306,
    "start_time": "2022-01-08T02:30:16.137Z"
   },
   {
    "duration": 364,
    "start_time": "2022-01-08T02:30:20.863Z"
   },
   {
    "duration": 363,
    "start_time": "2022-01-08T02:32:52.466Z"
   },
   {
    "duration": 486,
    "start_time": "2022-01-08T02:33:03.969Z"
   },
   {
    "duration": 387,
    "start_time": "2022-01-08T02:33:42.607Z"
   },
   {
    "duration": 275,
    "start_time": "2022-01-08T02:34:03.398Z"
   },
   {
    "duration": 281,
    "start_time": "2022-01-08T02:34:41.958Z"
   },
   {
    "duration": 285,
    "start_time": "2022-01-08T02:34:51.761Z"
   },
   {
    "duration": 96,
    "start_time": "2022-01-08T02:35:08.690Z"
   },
   {
    "duration": 268,
    "start_time": "2022-01-08T02:35:12.553Z"
   },
   {
    "duration": 515,
    "start_time": "2022-01-08T02:35:18.666Z"
   },
   {
    "duration": 277,
    "start_time": "2022-01-08T02:35:29.829Z"
   },
   {
    "duration": 724,
    "start_time": "2022-01-08T02:35:54.273Z"
   },
   {
    "duration": 251,
    "start_time": "2022-01-08T02:35:58.504Z"
   },
   {
    "duration": 240,
    "start_time": "2022-01-08T02:36:15.336Z"
   },
   {
    "duration": 269,
    "start_time": "2022-01-08T02:36:19.453Z"
   },
   {
    "duration": 264,
    "start_time": "2022-01-08T02:36:38.832Z"
   },
   {
    "duration": 265,
    "start_time": "2022-01-08T02:36:48.821Z"
   },
   {
    "duration": 269,
    "start_time": "2022-01-08T02:37:34.005Z"
   },
   {
    "duration": 267,
    "start_time": "2022-01-08T02:37:55.866Z"
   },
   {
    "duration": 556,
    "start_time": "2022-01-08T02:38:43.443Z"
   },
   {
    "duration": 272,
    "start_time": "2022-01-08T02:38:59.924Z"
   },
   {
    "duration": 722,
    "start_time": "2022-01-08T02:39:27.559Z"
   },
   {
    "duration": 273,
    "start_time": "2022-01-08T02:39:53.005Z"
   },
   {
    "duration": 5,
    "start_time": "2022-01-08T02:47:46.026Z"
   },
   {
    "duration": 7,
    "start_time": "2022-01-08T02:47:46.034Z"
   },
   {
    "duration": 55,
    "start_time": "2022-01-08T02:47:46.044Z"
   },
   {
    "duration": 91378,
    "start_time": "2022-01-08T02:47:46.102Z"
   },
   {
    "duration": 5,
    "start_time": "2022-01-08T02:49:17.483Z"
   },
   {
    "duration": 274,
    "start_time": "2022-01-08T02:49:17.491Z"
   },
   {
    "duration": 2697,
    "start_time": "2022-01-08T02:49:17.768Z"
   },
   {
    "duration": 4,
    "start_time": "2022-01-08T02:49:20.467Z"
   },
   {
    "duration": 7,
    "start_time": "2022-01-08T02:49:20.474Z"
   },
   {
    "duration": 9,
    "start_time": "2022-01-08T02:49:20.483Z"
   },
   {
    "duration": 1107,
    "start_time": "2022-01-08T02:49:20.494Z"
   },
   {
    "duration": 260,
    "start_time": "2022-01-08T03:27:18.754Z"
   },
   {
    "duration": 401,
    "start_time": "2022-01-08T03:28:09.453Z"
   },
   {
    "duration": 290,
    "start_time": "2022-01-08T03:28:35.600Z"
   },
   {
    "duration": 282,
    "start_time": "2022-01-08T03:29:13.703Z"
   },
   {
    "duration": 317,
    "start_time": "2022-01-08T03:29:44.722Z"
   },
   {
    "duration": 601,
    "start_time": "2022-01-08T03:32:43.930Z"
   },
   {
    "duration": 6,
    "start_time": "2022-01-08T03:32:46.604Z"
   },
   {
    "duration": 2459,
    "start_time": "2022-01-08T04:32:50.292Z"
   },
   {
    "duration": 5,
    "start_time": "2022-01-08T05:40:15.552Z"
   },
   {
    "duration": 6,
    "start_time": "2022-01-08T05:40:15.560Z"
   },
   {
    "duration": 204,
    "start_time": "2022-01-08T05:40:15.569Z"
   },
   {
    "duration": -2466,
    "start_time": "2022-01-08T05:40:18.242Z"
   },
   {
    "duration": -2466,
    "start_time": "2022-01-08T05:40:18.243Z"
   },
   {
    "duration": -2593,
    "start_time": "2022-01-08T05:40:18.372Z"
   },
   {
    "duration": -2597,
    "start_time": "2022-01-08T05:40:18.377Z"
   },
   {
    "duration": -2598,
    "start_time": "2022-01-08T05:40:18.379Z"
   },
   {
    "duration": -2598,
    "start_time": "2022-01-08T05:40:18.380Z"
   },
   {
    "duration": -2597,
    "start_time": "2022-01-08T05:40:18.381Z"
   },
   {
    "duration": -2597,
    "start_time": "2022-01-08T05:40:18.382Z"
   },
   {
    "duration": -2606,
    "start_time": "2022-01-08T05:40:18.393Z"
   },
   {
    "duration": -2606,
    "start_time": "2022-01-08T05:40:18.394Z"
   },
   {
    "duration": -2605,
    "start_time": "2022-01-08T05:40:18.395Z"
   },
   {
    "duration": 6,
    "start_time": "2022-01-08T05:45:24.637Z"
   },
   {
    "duration": 4,
    "start_time": "2022-01-08T05:45:24.652Z"
   },
   {
    "duration": 6,
    "start_time": "2022-01-08T05:45:24.660Z"
   },
   {
    "duration": 53,
    "start_time": "2022-01-08T05:45:24.669Z"
   },
   {
    "duration": 91266,
    "start_time": "2022-01-08T05:45:24.725Z"
   },
   {
    "duration": 581,
    "start_time": "2022-01-08T05:46:55.994Z"
   },
   {
    "duration": 6,
    "start_time": "2022-01-08T05:46:56.577Z"
   },
   {
    "duration": 308,
    "start_time": "2022-01-08T05:46:56.585Z"
   },
   {
    "duration": 304,
    "start_time": "2022-01-08T05:46:56.896Z"
   },
   {
    "duration": 2776,
    "start_time": "2022-01-08T05:46:57.204Z"
   },
   {
    "duration": 5,
    "start_time": "2022-01-08T05:46:59.982Z"
   },
   {
    "duration": 7,
    "start_time": "2022-01-08T05:46:59.990Z"
   },
   {
    "duration": 8,
    "start_time": "2022-01-08T05:47:00.000Z"
   },
   {
    "duration": 1427,
    "start_time": "2022-01-08T05:47:00.012Z"
   },
   {
    "duration": 4735,
    "start_time": "2022-01-08T14:25:45.684Z"
   },
   {
    "duration": 4,
    "start_time": "2022-01-08T14:25:50.421Z"
   },
   {
    "duration": 14,
    "start_time": "2022-01-08T14:25:50.428Z"
   },
   {
    "duration": 51,
    "start_time": "2022-01-08T14:25:50.445Z"
   },
   {
    "duration": 69306,
    "start_time": "2022-01-08T14:25:50.498Z"
   },
   {
    "duration": 481,
    "start_time": "2022-01-08T14:26:59.806Z"
   },
   {
    "duration": 5,
    "start_time": "2022-01-08T14:27:00.289Z"
   },
   {
    "duration": 301,
    "start_time": "2022-01-08T14:27:00.298Z"
   },
   {
    "duration": 294,
    "start_time": "2022-01-08T14:27:00.602Z"
   },
   {
    "duration": 2881,
    "start_time": "2022-01-08T14:27:00.898Z"
   },
   {
    "duration": 106,
    "start_time": "2022-01-08T14:27:03.782Z"
   },
   {
    "duration": -163,
    "start_time": "2022-01-08T14:27:04.053Z"
   },
   {
    "duration": -162,
    "start_time": "2022-01-08T14:27:04.054Z"
   },
   {
    "duration": -162,
    "start_time": "2022-01-08T14:27:04.055Z"
   },
   {
    "duration": 107,
    "start_time": "2022-01-08T14:33:24.136Z"
   },
   {
    "duration": 7,
    "start_time": "2022-01-08T14:33:33.272Z"
   },
   {
    "duration": 8,
    "start_time": "2022-01-08T14:35:49.638Z"
   },
   {
    "duration": 14,
    "start_time": "2022-01-08T14:35:49.649Z"
   },
   {
    "duration": 7,
    "start_time": "2022-01-08T14:35:49.666Z"
   },
   {
    "duration": 873,
    "start_time": "2022-01-08T14:35:49.676Z"
   },
   {
    "duration": 1213,
    "start_time": "2022-01-08T14:49:47.174Z"
   },
   {
    "duration": 7,
    "start_time": "2022-01-08T19:41:03.549Z"
   },
   {
    "duration": 4,
    "start_time": "2022-01-08T19:41:14.463Z"
   },
   {
    "duration": 7,
    "start_time": "2022-01-08T19:41:14.469Z"
   },
   {
    "duration": 5,
    "start_time": "2022-01-08T19:41:14.478Z"
   },
   {
    "duration": 459,
    "start_time": "2022-01-08T19:41:14.484Z"
   },
   {
    "duration": 3,
    "start_time": "2022-01-08T19:41:35.765Z"
   },
   {
    "duration": 734,
    "start_time": "2022-01-08T19:41:49.281Z"
   },
   {
    "duration": -81,
    "start_time": "2022-01-08T19:41:50.098Z"
   },
   {
    "duration": -224,
    "start_time": "2022-01-08T19:41:50.242Z"
   },
   {
    "duration": -225,
    "start_time": "2022-01-08T19:41:50.244Z"
   },
   {
    "duration": -225,
    "start_time": "2022-01-08T19:41:50.245Z"
   },
   {
    "duration": 3353,
    "start_time": "2022-01-08T19:42:06.602Z"
   },
   {
    "duration": 2,
    "start_time": "2022-01-08T19:42:09.957Z"
   },
   {
    "duration": 6,
    "start_time": "2022-01-08T19:42:09.961Z"
   },
   {
    "duration": 43,
    "start_time": "2022-01-08T19:42:09.969Z"
   },
   {
    "duration": 82718,
    "start_time": "2022-01-08T19:42:10.014Z"
   },
   {
    "duration": 490,
    "start_time": "2022-01-08T19:43:32.733Z"
   },
   {
    "duration": 3,
    "start_time": "2022-01-08T19:43:33.225Z"
   },
   {
    "duration": 192,
    "start_time": "2022-01-08T19:43:33.230Z"
   },
   {
    "duration": 186,
    "start_time": "2022-01-08T19:43:33.424Z"
   },
   {
    "duration": 1647,
    "start_time": "2022-01-08T19:43:33.612Z"
   },
   {
    "duration": 5,
    "start_time": "2022-01-08T19:43:35.261Z"
   },
   {
    "duration": 7,
    "start_time": "2022-01-08T19:43:35.268Z"
   },
   {
    "duration": 6,
    "start_time": "2022-01-08T19:43:35.276Z"
   },
   {
    "duration": 2056,
    "start_time": "2022-01-08T19:43:35.283Z"
   },
   {
    "duration": 486,
    "start_time": "2022-01-08T20:27:42.869Z"
   },
   {
    "duration": 115,
    "start_time": "2022-01-08T20:27:47.201Z"
   }
  ],
  "kernelspec": {
   "display_name": "Python 3 (ipykernel)",
   "language": "python",
   "name": "python3"
  },
  "language_info": {
   "codemirror_mode": {
    "name": "ipython",
    "version": 3
   },
   "file_extension": ".py",
   "mimetype": "text/x-python",
   "name": "python",
   "nbconvert_exporter": "python",
   "pygments_lexer": "ipython3",
   "version": "3.9.19"
  },
  "toc": {
   "base_numbering": 1,
   "nav_menu": {},
   "number_sections": true,
   "sideBar": true,
   "skip_h1_title": true,
   "title_cell": "Table of Contents",
   "title_sidebar": "Contents",
   "toc_cell": false,
   "toc_position": {},
   "toc_section_display": true,
   "toc_window_display": false
  }
 },
 "nbformat": 4,
 "nbformat_minor": 4
}
